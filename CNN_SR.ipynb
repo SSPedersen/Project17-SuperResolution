{
  "nbformat": 4,
  "nbformat_minor": 0,
  "metadata": {
    "colab": {
      "name": "CNN SR.ipynb",
      "provenance": [],
      "collapsed_sections": [],
      "include_colab_link": true
    },
    "kernelspec": {
      "name": "python3",
      "display_name": "Python 3"
    },
    "accelerator": "GPU"
  },
  "cells": [
    {
      "cell_type": "markdown",
      "metadata": {
        "id": "view-in-github",
        "colab_type": "text"
      },
      "source": [
        "<a href=\"https://colab.research.google.com/github/SSPedersen/VAE-and-LVAE-Super-Resolution/blob/main/CNN_SR.ipynb\" target=\"_parent\"><img src=\"https://colab.research.google.com/assets/colab-badge.svg\" alt=\"Open In Colab\"/></a>"
      ]
    },
    {
      "cell_type": "code",
      "metadata": {
        "id": "EcgH26eBPknC"
      },
      "source": [
        "%matplotlib inline\n",
        "import matplotlib.pyplot as plt\n",
        "import numpy as np\n",
        "\n",
        "import torch\n",
        "import torchvision\n",
        "from torch.autograd import Variable\n",
        "import torch.nn as nn\n",
        "import torch.optim as optim\n",
        "from torch.nn  import Linear, GRU, Conv2d, Dropout, MaxPool2d, BatchNorm1d, ConvTranspose2d\n",
        "from torch.nn.functional import relu, elu, relu6, sigmoid, tanh, softmax"
      ],
      "execution_count": null,
      "outputs": []
    },
    {
      "cell_type": "code",
      "metadata": {
        "id": "NN2L5qVHc3WT"
      },
      "source": [
        " import os\n",
        " import pickle\n",
        "\n",
        " import numpy as np\n",
        " from torch.utils.data import Dataset\n",
        " from PIL import Image\n",
        " from torch.utils.data import Dataset\n",
        " from PIL import Image\n",
        " from skimage.transform import resize\n",
        " import torchvision.transforms as transforms\n",
        " from torchvision.datasets import CIFAR10, Flickr8k\n",
        " from sklearn.model_selection import train_test_split\n",
        " from torch.utils.data import Subset\n",
        " from torch.utils.data import DataLoader\n",
        "\n",
        "\n",
        "# #def load_pickled_data(fname):\n",
        "#  #   with open(fname, 'rb') as f:\n",
        "#   #      data = pickle.load(f)\n",
        "\n",
        "#    # train_data, test_data = data['train'], data['test']\n",
        "#  #   train_data = train_data[:, :, :, [2, 1, 0]]\n",
        "#   #  test_data = test_data[:, :, :, [2, 1, 0]]\n",
        "#   #  return train_data, test_data\n",
        "\n",
        "# class MiniCeleba(Dataset):\n",
        "#     \"\"\"Celeba dataset\"\"\"\n",
        "\n",
        "#     def __init__(self, data, transform=None):\n",
        "#         h, w, c = 32, 32, 3\n",
        "\n",
        "#         # binarize data\n",
        "#         data = data > 1\n",
        "\n",
        "#         self.data = np.ascontiguousarray(data.reshape(-1, h, w, 3), dtype=np.float32)\n",
        "#         self.transform = transform\n",
        "\n",
        "#     def __len__(self):\n",
        "#         return len(self.data)\n",
        "\n",
        "#     def __getitem__(self, idx):\n",
        "#         sample = self.data[idx]\n",
        "\n",
        "#         sample = Image.fromarray(255 * sample)  # cannot read bytes directly: https://github.com/numpy/numpy/issues/5861\n",
        "\n",
        "#         if self.transform:\n",
        "#             sample = self.transform(sample)\n",
        "\n",
        "#         return sample\n",
        "\n",
        "\n",
        "# def get_mini_celeba(transform=None):\n",
        "#     \"\"\"credits to https://github.com/rll/deepul\"\"\"\n",
        "#     data_dir = '/content/data/'\n",
        "#     train_data, test_data = load_pickled_data(os.path.join(data_dir, 'celeb.pkl'))\n",
        "#     dset_train = MiniCeleba(train_data, transform=transform)\n",
        "#     dset_test = MiniCeleba(test_data, transform=transform)\n",
        "#     return dset_train, dset_test, dset_test\n",
        "\n",
        "\n",
        "# dset_train, dset_valid, dset_test = get_mini_celeba()\n",
        "\n",
        "# loader_train = DataLoader(dset_train, batch_size=1, num_workers=2)\n",
        "# loader_valid = DataLoader(dset_valid, batch_size=1, num_workers=2)\n",
        "# loader_test = DataLoader(dset_test, batch_size=1, num_workers=2)\n",
        "\n",
        "# train_iter=iter(loader_train)\n",
        "# valid_iter=iter(loader_valid)\n",
        "# test_iter=iter(loader_test)"
      ],
      "execution_count": null,
      "outputs": []
    },
    {
      "cell_type": "code",
      "metadata": {
        "id": "5cWIzejTt1i3",
        "colab": {
          "base_uri": "https://localhost:8080/"
        },
        "outputId": "90537e2e-f5a1-4513-c6d4-7a322d68dce8"
      },
      "source": [
        "h, w, c = 32, 32, 3\n",
        "dh, dw, dc = 16, 16, 3\n",
        "\n",
        "class CIFAR(Dataset):\n",
        "    \"\"\"CIFAR10 dataset\"\"\"\n",
        "\n",
        "    def __init__(self, data, transform=None):\n",
        "\n",
        "      self.data1 = np.ascontiguousarray(data.reshape(-1, h, w, c), dtype=np.float32)\n",
        "      x = np.copy((data1))\n",
        "\n",
        "      x = torch.tensor(x)\n",
        "      print(f\">> x : {x.shape}\")\n",
        "      x = transform.Resize((dc, dw, dh))\n",
        "      print(f\">>>> x : {x.shape}\")\n",
        "\n",
        "      self.downSampledData = x\n",
        "\n",
        "\n",
        "      #self.downSampledData = np.ascontiguousarray(data.reshape(-1, dh, dw, c), dtype=np.float32)\n",
        "      print(\"hej\", data.shape)\n",
        "      print(\"hej\", self.data1.shape)\n",
        "      #print(\"hej\", self.downSampledData.shape)\n",
        "      self.transform = transform\n",
        "\n",
        "    def __len__(self):\n",
        "      return len(self.data)\n",
        "\n",
        "    def __getitem__(self, idx):\n",
        "      sample = self.data1[idx]\n",
        "      downSample = self.downSampledData[idx]\n",
        "\n",
        "      sample = Image.fromarray(255 * sample, mode= 'RGB') # cannot read bytes directly: https://github.com/numpy/numpy/issues/5861\n",
        "      downSample = Image.fromarray(255 * downSample, mode= 'RGB') \n",
        "\n",
        "      if self.transform:\n",
        "        downSample = self.transform(downSample)\n",
        "      return sample, downSample\n",
        "\n",
        "\n",
        "\n",
        "class CIFAR(CIFAR10):\n",
        "    \"\"\"CIFAR10 dataset\"\"\"\n",
        "\n",
        "    def __init__(self, *args, **kwargs):\n",
        "      super().__init__(*args, **kwargs)\n",
        "\n",
        "      # resizing\n",
        "      resize_fn = transforms.Resize((dh, dw))\n",
        "      x = torch.tensor(self.data).permute(0, 3, 1, 2) # BHWC -> BCHW\n",
        "      x = resize_fn(x).permute(0, 2, 3, 1) # BCHW -> BHWC\n",
        "\n",
        "      self.downsampled_data = x.numpy()\n",
        "\n",
        "    def __getitem__(self, idx):\n",
        "\n",
        "      x,_ = super().__getitem__(idx)\n",
        "\n",
        "      y = self.downsampled_data[idx]\n",
        "\n",
        "      if self.transform is not None:\n",
        "        y = self.transform(y)\n",
        "\n",
        "      return x, y\n",
        "\n",
        "\n",
        "\n",
        "dset = CIFAR(root='./data', train=True, download=True, transform=transforms.ToTensor())\n",
        "\n",
        "\n",
        "def reduce_dataset(dataset, reduction):\n",
        "    discarded_idx, reduced_idx = train_test_split(list(range(len(dataset))), test_size=reduction)\n",
        "    reduced_dataset = Subset(dataset, reduced_idx)\n",
        "    return reduced_dataset\n",
        "\n",
        "def train_val_dataset(dataset, val_split=0.3):\n",
        "    train_idx, val_idx = train_test_split(list(range(len(dataset))), test_size=val_split)\n",
        "    datasets = {}\n",
        "    datasets['train'] = Subset(dataset, train_idx)\n",
        "    datasets['val'] = Subset(dataset, val_idx)\n",
        "    return datasets\n",
        "\n",
        "\n",
        "r_dataset = reduce_dataset(dset,0.01)\n",
        "\n",
        "datasets = train_val_dataset(r_dataset)\n",
        "\n",
        "train_set = datasets['train']\n",
        "valid_set = datasets['val'] \n",
        "\n",
        "dloader = {x:DataLoader(datasets[x], 1, shuffle=True, num_workers=4) for x in ['train','val']}\n",
        "\n",
        "\n",
        "train_data_iter = iter(dloader['train'])\n",
        "val_data_iter = iter(dloader['val'])"
      ],
      "execution_count": null,
      "outputs": [
        {
          "output_type": "stream",
          "text": [
            "Files already downloaded and verified\n"
          ],
          "name": "stdout"
        }
      ]
    },
    {
      "cell_type": "code",
      "metadata": {
        "id": "pWBDFplbPrZX",
        "colab": {
          "base_uri": "https://localhost:8080/",
          "height": 266
        },
        "outputId": "ec004cc6-6c8c-4552-86f7-03fa560cb37e"
      },
      "source": [
        "# Run this cell multiple time to see more samples\n",
        "def imshow(img):\n",
        "    \"\"\" show an image \"\"\"\n",
        "    img = img / 2 + 0.5 # unnormalize\n",
        "    npimg = img.numpy()\n",
        "    plt.imshow(np.transpose(npimg, (1, 2, 0)))\n",
        "\n",
        "# get some random training images\n",
        "x,y = val_data_iter.next()\n",
        "\n",
        "\n",
        "# show images\n",
        "imshow(torchvision.utils.make_grid(x[0]))\n"
      ],
      "execution_count": null,
      "outputs": [
        {
          "output_type": "display_data",
          "data": {
            "image/png": "[encoded data removed]",
            "text/plain": [
              "<Figure size 432x288 with 1 Axes>"
            ]
          },
          "metadata": {
            "tags": [],
            "needs_background": "light"
          }
        }
      ]
    },
    {
      "cell_type": "code",
      "metadata": {
        "id": "xCB0Xdr5nWWZ",
        "colab": {
          "base_uri": "https://localhost:8080/",
          "height": 265
        },
        "outputId": "b9329428-9faf-43fc-a027-7332ebeb52d6"
      },
      "source": [
        "imshow(torchvision.utils.make_grid(y[0]))"
      ],
      "execution_count": null,
      "outputs": [
        {
          "output_type": "display_data",
          "data": {
            "image/png": "[encoded data removed]",
            "text/plain": [
              "<Figure size 432x288 with 1 Axes>"
            ]
          },
          "metadata": {
            "tags": [],
            "needs_background": "light"
          }
        }
      ]
    },
    {
      "cell_type": "code",
      "metadata": {
        "id": "1j2ZeaM-kbwn",
        "colab": {
          "base_uri": "https://localhost:8080/",
          "height": 266
        },
        "outputId": "899828da-ac1c-4108-e38a-5a8d2212d543"
      },
      "source": [
        "x1,y1 = train_data_iter.next()\n",
        "#imshow(torchvision.utils.make_grid(images1[0]))\n",
        "imshow(torchvision.utils.make_grid(x1[0]))"
      ],
      "execution_count": null,
      "outputs": [
        {
          "output_type": "display_data",
          "data": {
            "image/png": "[encoded data removed]",
            "text/plain": [
              "<Figure size 432x288 with 1 Axes>"
            ]
          },
          "metadata": {
            "tags": [],
            "needs_background": "light"
          }
        }
      ]
    },
    {
      "cell_type": "code",
      "metadata": {
        "id": "cXUF6ePvnXwB",
        "colab": {
          "base_uri": "https://localhost:8080/",
          "height": 265
        },
        "outputId": "f0030a1f-6ac3-492e-b807-cfbbf7ff7c10"
      },
      "source": [
        "imshow(torchvision.utils.make_grid(y1[0]))"
      ],
      "execution_count": null,
      "outputs": [
        {
          "output_type": "display_data",
          "data": {
            "image/png": "[encoded data removed]",
            "text/plain": [
              "<Figure size 432x288 with 1 Axes>"
            ]
          },
          "metadata": {
            "tags": [],
            "needs_background": "light"
          }
        }
      ]
    },
    {
      "cell_type": "code",
      "metadata": {
        "id": "YreD5mJdb3-c",
        "colab": {
          "base_uri": "https://localhost:8080/"
        },
        "outputId": "c4bfea77-bd4f-4d69-ff0d-0e4455c5f370"
      },
      "source": [
        "use_cuda = torch.cuda.is_available()\n",
        "print(\"Running GPU.\") if use_cuda else print(\"No GPU available.\")\n",
        "\n",
        "\n",
        "def get_variable(x):\n",
        "    \"\"\" Converts tensors to cuda, if available. \"\"\"\n",
        "    if use_cuda:\n",
        "        return x.cuda()\n",
        "    return x\n",
        "\n",
        "\n",
        "def get_numpy(x):\n",
        "    \"\"\" Get numpy array for both cuda and not. \"\"\"\n",
        "    if use_cuda:\n",
        "        return x.cpu().data.numpy()\n",
        "    return x.data.numpy()"
      ],
      "execution_count": null,
      "outputs": [
        {
          "output_type": "stream",
          "text": [
            "Running GPU.\n"
          ],
          "name": "stdout"
        }
      ]
    },
    {
      "cell_type": "code",
      "metadata": {
        "id": "u552c0pciB3H",
        "colab": {
          "base_uri": "https://localhost:8080/"
        },
        "outputId": "e1c020d5-ff75-4a11-d405-a3c7489e34e9"
      },
      "source": [
        "# define SRCNN network\n",
        "class Net(nn.Module):\n",
        "\n",
        "    def __init__(self):\n",
        "        super(Net, self).__init__()\n",
        "        \n",
        "        self.conv_1 = Conv2d(in_channels=3,\n",
        "                             out_channels=256,\n",
        "                             padding=2,\n",
        "                             kernel_size=5)\n",
        "\n",
        "        self.conv_2 = Conv2d(in_channels=256,\n",
        "                             out_channels=128,\n",
        "                             padding=1,\n",
        "                             kernel_size=3)\n",
        "\n",
        "        self.conv_3 = Conv2d(in_channels=128,\n",
        "                             out_channels=3,\n",
        "                             kernel_size=5)    \n",
        "\n",
        "        self.upsample = nn.Upsample(scale_factor=1.5, mode='nearest');\n",
        "        self.upsample2 = nn.Upsample(scale_factor=2, mode='nearest');\n",
        "\n",
        "    def forward(self, x):\n",
        "        x = self.conv_1(x)\n",
        "        x = relu(x)\n",
        "        x = self.upsample(x)\n",
        "\n",
        "        x = self.conv_2(x)\n",
        "        x = relu(x)\n",
        "        x = self.upsample(x)\n",
        "\n",
        "        x = self.conv_3(x)\n",
        "\n",
        "        return x\n",
        "\n",
        "\n",
        "net = Net()\n",
        "if use_cuda:\n",
        "    net.cuda()\n",
        "print(net)"
      ],
      "execution_count": null,
      "outputs": [
        {
          "output_type": "stream",
          "text": [
            "Net(\n",
            "  (conv_1): Conv2d(3, 256, kernel_size=(5, 5), stride=(1, 1), padding=(2, 2))\n",
            "  (conv_2): Conv2d(256, 128, kernel_size=(3, 3), stride=(1, 1), padding=(1, 1))\n",
            "  (conv_3): Conv2d(128, 3, kernel_size=(5, 5), stride=(1, 1))\n",
            "  (upsample): Upsample(scale_factor=1.5, mode=nearest)\n",
            "  (upsample2): Upsample(scale_factor=2.0, mode=nearest)\n",
            ")\n"
          ],
          "name": "stdout"
        }
      ]
    },
    {
      "cell_type": "code",
      "metadata": {
        "id": "nJkFUo8WPtqE"
      },
      "source": [
        "#Setting up Parameters\n",
        "\n",
        "# The paper used MSE loss\n",
        "criterion = nn.MSELoss()\n",
        "# The Adam optimizer works really well with VAEs.\n",
        "optimizer = torch.optim.Adam(net.parameters(), lr=1e-3)"
      ],
      "execution_count": null,
      "outputs": []
    },
    {
      "cell_type": "code",
      "metadata": {
        "id": "H90xNlKGg5tL"
      },
      "source": [
        "import math"
      ],
      "execution_count": null,
      "outputs": []
    },
    {
      "cell_type": "code",
      "metadata": {
        "id": "8emUEavzr76z"
      },
      "source": [
        "def train(net, dataloader,):\n",
        "    net.train()\n",
        "    running_loss = 0.0\n",
        "    running_psnr = 0.0\n",
        "    net.train()\n",
        "    for i, data in enumerate(dataloader,0):\n",
        "        # get the inputs\n",
        "        target, input = data\n",
        "\n",
        "        device = torch.device(\"cuda:0\" if torch.cuda.is_available() else \"cpu\")\n",
        "\n",
        "        input, target = input.to(device), target.to(device)\n",
        "\n",
        "        # wrap them in Variable\n",
        "        input, target = Variable(input), Variable(target)\n",
        "        \n",
        "        # zero grad the optimizer\n",
        "        optimizer.zero_grad()\n",
        "        # forward + backward + optimize\n",
        "        outputs = net(input)\n",
        "        loss = criterion(outputs, target)\n",
        "        loss.backward()\n",
        "        optimizer.step()\n",
        "\n",
        "        # add loss\n",
        "        running_loss += loss.item()\n",
        "\n",
        "        # calculate psnr\n",
        "        psnr = 10 * math.log10(1 / loss)\n",
        "        \n",
        "        running_psnr += psnr\n",
        "    final_loss = running_loss/len(dataloader.dataset)\n",
        "    final_psnr = running_psnr/int(len(train_set)/dataloader.batch_size)\n",
        "    return final_loss, final_psnr"
      ],
      "execution_count": null,
      "outputs": []
    },
    {
      "cell_type": "code",
      "metadata": {
        "id": "aNjohAqw20zn"
      },
      "source": [
        "def validate(net, dataloader):\n",
        "    net.train()\n",
        "    net.eval()\n",
        "    running_loss = 0.0\n",
        "    running_psnr = 0.0\n",
        "    with torch.no_grad():\n",
        "        for i, data in enumerate(dataloader,0):\n",
        "            # get the inputs\n",
        "            target, input = data\n",
        "\n",
        "            device = torch.device(\"cuda:0\" if torch.cuda.is_available() else \"cpu\")\n",
        "\n",
        "            input, target = input.to(device), target.to(device)\n",
        "\n",
        "\n",
        "            # wrap them in Variable\n",
        "            input, target = Variable(input), Variable(target)\n",
        "           \n",
        "            outputs = net(input)\n",
        "            loss = criterion(outputs, target)\n",
        "            running_loss += loss.item()\n",
        "            #if(i%10 == 0):\n",
        "             # imshow(torchvision.utils.make_grid(outputs.to(\"cpu\")))\n",
        "            # calculate psnr\n",
        "            psnr = 10 * math.log10(1 / loss)\n",
        "\n",
        "            running_psnr += psnr\n",
        "        outputs = outputs.cpu()\n",
        "    final_loss = running_loss/len(dataloader.dataset)\n",
        "    final_psnr = running_psnr/int(len(train_set)/dataloader.batch_size)\n",
        "    return final_loss, final_psnr"
      ],
      "execution_count": null,
      "outputs": []
    },
    {
      "cell_type": "code",
      "metadata": {
        "id": "PhEmRZ-Z3KpO",
        "colab": {
          "base_uri": "https://localhost:8080/",
          "height": 1000
        },
        "outputId": "1870eaba-8fe3-4373-ee20-b3c50eeffb34"
      },
      "source": [
        "train_loss, val_loss = [], []\n",
        "train_psnr, val_psnr = [], []\n",
        "epochs = 10\n",
        "\n",
        "for epoch in range(epochs):\n",
        "    print(f\"Epoch {epoch + 1} of {epochs}\")\n",
        "    train_epoch_loss, train_epoch_psnr = train(net, dloader['train'])\n",
        "    val_epoch_loss, val_epoch_psnr = validate(net, dloader['val'])\n",
        "    print(f\"Train PSNR: {train_epoch_psnr:.3f}\")\n",
        "    print(f\"Val PSNR: {val_epoch_psnr:.3f}\")\n",
        "    print(f\"Train loss: {train_epoch_loss:.3f}\")\n",
        "    print(f\"Val loss: {val_epoch_loss:.3f}\")\n"
      ],
      "execution_count": null,
      "outputs": [
        {
          "output_type": "stream",
          "text": [
            "Epoch 1 of 10\n"
          ],
          "name": "stdout"
        },
        {
          "output_type": "stream",
          "text": [
            "/usr/local/lib/python3.6/dist-packages/torch/nn/functional.py:3103: UserWarning: The default behavior for interpolate/upsample with float scale_factor changed in 1.6.0 to align with other frameworks/libraries, and now uses scale_factor directly, instead of relying on the computed output size. If you wish to restore the old behavior, please set recompute_scale_factor=True. See the documentation of nn.Upsample for details. \n",
            "  warnings.warn(\"The default behavior for interpolate/upsample with float scale_factor changed \"\n",
            "Clipping input data to the valid range for imshow with RGB data ([0..1] for floats or [0..255] for integers).\n",
            "Clipping input data to the valid range for imshow with RGB data ([0..1] for floats or [0..255] for integers).\n",
            "Clipping input data to the valid range for imshow with RGB data ([0..1] for floats or [0..255] for integers).\n",
            "Clipping input data to the valid range for imshow with RGB data ([0..1] for floats or [0..255] for integers).\n",
            "Clipping input data to the valid range for imshow with RGB data ([0..1] for floats or [0..255] for integers).\n",
            "Clipping input data to the valid range for imshow with RGB data ([0..1] for floats or [0..255] for integers).\n",
            "Clipping input data to the valid range for imshow with RGB data ([0..1] for floats or [0..255] for integers).\n",
            "Clipping input data to the valid range for imshow with RGB data ([0..1] for floats or [0..255] for integers).\n",
            "Clipping input data to the valid range for imshow with RGB data ([0..1] for floats or [0..255] for integers).\n",
            "Clipping input data to the valid range for imshow with RGB data ([0..1] for floats or [0..255] for integers).\n",
            "Clipping input data to the valid range for imshow with RGB data ([0..1] for floats or [0..255] for integers).\n"
          ],
          "name": "stderr"
        },
        {
          "output_type": "stream",
          "text": [
            "Train PSNR: 22.262\n",
            "Val PSNR: 9.351\n",
            "Train loss: 0.007\n",
            "Val loss: 0.007\n",
            "Epoch 2 of 10\n"
          ],
          "name": "stdout"
        },
        {
          "output_type": "stream",
          "text": [
            "Clipping input data to the valid range for imshow with RGB data ([0..1] for floats or [0..255] for integers).\n",
            "Clipping input data to the valid range for imshow with RGB data ([0..1] for floats or [0..255] for integers).\n",
            "Clipping input data to the valid range for imshow with RGB data ([0..1] for floats or [0..255] for integers).\n"
          ],
          "name": "stderr"
        },
        {
          "output_type": "stream",
          "text": [
            "Train PSNR: 21.754\n",
            "Val PSNR: 9.549\n",
            "Train loss: 0.007\n",
            "Val loss: 0.007\n",
            "Epoch 3 of 10\n"
          ],
          "name": "stdout"
        },
        {
          "output_type": "stream",
          "text": [
            "Clipping input data to the valid range for imshow with RGB data ([0..1] for floats or [0..255] for integers).\n",
            "Clipping input data to the valid range for imshow with RGB data ([0..1] for floats or [0..255] for integers).\n",
            "Clipping input data to the valid range for imshow with RGB data ([0..1] for floats or [0..255] for integers).\n",
            "Clipping input data to the valid range for imshow with RGB data ([0..1] for floats or [0..255] for integers).\n",
            "Clipping input data to the valid range for imshow with RGB data ([0..1] for floats or [0..255] for integers).\n",
            "Clipping input data to the valid range for imshow with RGB data ([0..1] for floats or [0..255] for integers).\n"
          ],
          "name": "stderr"
        },
        {
          "output_type": "stream",
          "text": [
            "Train PSNR: 22.307\n",
            "Val PSNR: 9.583\n",
            "Train loss: 0.007\n",
            "Val loss: 0.007\n",
            "Epoch 4 of 10\n"
          ],
          "name": "stdout"
        },
        {
          "output_type": "stream",
          "text": [
            "Clipping input data to the valid range for imshow with RGB data ([0..1] for floats or [0..255] for integers).\n",
            "Clipping input data to the valid range for imshow with RGB data ([0..1] for floats or [0..255] for integers).\n",
            "Clipping input data to the valid range for imshow with RGB data ([0..1] for floats or [0..255] for integers).\n",
            "Clipping input data to the valid range for imshow with RGB data ([0..1] for floats or [0..255] for integers).\n",
            "Clipping input data to the valid range for imshow with RGB data ([0..1] for floats or [0..255] for integers).\n",
            "Clipping input data to the valid range for imshow with RGB data ([0..1] for floats or [0..255] for integers).\n",
            "Clipping input data to the valid range for imshow with RGB data ([0..1] for floats or [0..255] for integers).\n"
          ],
          "name": "stderr"
        },
        {
          "output_type": "stream",
          "text": [
            "Train PSNR: 22.252\n",
            "Val PSNR: 9.579\n",
            "Train loss: 0.007\n",
            "Val loss: 0.007\n",
            "Epoch 5 of 10\n"
          ],
          "name": "stdout"
        },
        {
          "output_type": "stream",
          "text": [
            "Clipping input data to the valid range for imshow with RGB data ([0..1] for floats or [0..255] for integers).\n",
            "Clipping input data to the valid range for imshow with RGB data ([0..1] for floats or [0..255] for integers).\n",
            "Clipping input data to the valid range for imshow with RGB data ([0..1] for floats or [0..255] for integers).\n",
            "Clipping input data to the valid range for imshow with RGB data ([0..1] for floats or [0..255] for integers).\n",
            "Clipping input data to the valid range for imshow with RGB data ([0..1] for floats or [0..255] for integers).\n",
            "Clipping input data to the valid range for imshow with RGB data ([0..1] for floats or [0..255] for integers).\n"
          ],
          "name": "stderr"
        },
        {
          "output_type": "stream",
          "text": [
            "Train PSNR: 21.943\n",
            "Val PSNR: 9.078\n",
            "Train loss: 0.007\n",
            "Val loss: 0.008\n",
            "Epoch 6 of 10\n"
          ],
          "name": "stdout"
        },
        {
          "output_type": "stream",
          "text": [
            "Clipping input data to the valid range for imshow with RGB data ([0..1] for floats or [0..255] for integers).\n",
            "Clipping input data to the valid range for imshow with RGB data ([0..1] for floats or [0..255] for integers).\n",
            "Clipping input data to the valid range for imshow with RGB data ([0..1] for floats or [0..255] for integers).\n",
            "Clipping input data to the valid range for imshow with RGB data ([0..1] for floats or [0..255] for integers).\n",
            "Clipping input data to the valid range for imshow with RGB data ([0..1] for floats or [0..255] for integers).\n",
            "Clipping input data to the valid range for imshow with RGB data ([0..1] for floats or [0..255] for integers).\n",
            "Clipping input data to the valid range for imshow with RGB data ([0..1] for floats or [0..255] for integers).\n",
            "Clipping input data to the valid range for imshow with RGB data ([0..1] for floats or [0..255] for integers).\n"
          ],
          "name": "stderr"
        },
        {
          "output_type": "stream",
          "text": [
            "Train PSNR: 22.294\n",
            "Val PSNR: 9.627\n",
            "Train loss: 0.007\n",
            "Val loss: 0.006\n",
            "Epoch 7 of 10\n"
          ],
          "name": "stdout"
        },
        {
          "output_type": "stream",
          "text": [
            "Clipping input data to the valid range for imshow with RGB data ([0..1] for floats or [0..255] for integers).\n",
            "Clipping input data to the valid range for imshow with RGB data ([0..1] for floats or [0..255] for integers).\n",
            "Clipping input data to the valid range for imshow with RGB data ([0..1] for floats or [0..255] for integers).\n",
            "Clipping input data to the valid range for imshow with RGB data ([0..1] for floats or [0..255] for integers).\n",
            "Clipping input data to the valid range for imshow with RGB data ([0..1] for floats or [0..255] for integers).\n",
            "Clipping input data to the valid range for imshow with RGB data ([0..1] for floats or [0..255] for integers).\n",
            "Clipping input data to the valid range for imshow with RGB data ([0..1] for floats or [0..255] for integers).\n",
            "Clipping input data to the valid range for imshow with RGB data ([0..1] for floats or [0..255] for integers).\n"
          ],
          "name": "stderr"
        },
        {
          "output_type": "stream",
          "text": [
            "Train PSNR: 22.628\n",
            "Val PSNR: 9.674\n",
            "Train loss: 0.006\n",
            "Val loss: 0.006\n",
            "Epoch 8 of 10\n"
          ],
          "name": "stdout"
        },
        {
          "output_type": "stream",
          "text": [
            "Clipping input data to the valid range for imshow with RGB data ([0..1] for floats or [0..255] for integers).\n",
            "Clipping input data to the valid range for imshow with RGB data ([0..1] for floats or [0..255] for integers).\n",
            "Clipping input data to the valid range for imshow with RGB data ([0..1] for floats or [0..255] for integers).\n",
            "Clipping input data to the valid range for imshow with RGB data ([0..1] for floats or [0..255] for integers).\n",
            "Clipping input data to the valid range for imshow with RGB data ([0..1] for floats or [0..255] for integers).\n",
            "Clipping input data to the valid range for imshow with RGB data ([0..1] for floats or [0..255] for integers).\n",
            "Clipping input data to the valid range for imshow with RGB data ([0..1] for floats or [0..255] for integers).\n",
            "Clipping input data to the valid range for imshow with RGB data ([0..1] for floats or [0..255] for integers).\n",
            "Clipping input data to the valid range for imshow with RGB data ([0..1] for floats or [0..255] for integers).\n",
            "Clipping input data to the valid range for imshow with RGB data ([0..1] for floats or [0..255] for integers).\n"
          ],
          "name": "stderr"
        },
        {
          "output_type": "stream",
          "text": [
            "Train PSNR: 22.631\n",
            "Val PSNR: 8.881\n",
            "Train loss: 0.006\n",
            "Val loss: 0.009\n",
            "Epoch 9 of 10\n"
          ],
          "name": "stdout"
        },
        {
          "output_type": "stream",
          "text": [
            "Clipping input data to the valid range for imshow with RGB data ([0..1] for floats or [0..255] for integers).\n",
            "Clipping input data to the valid range for imshow with RGB data ([0..1] for floats or [0..255] for integers).\n",
            "Clipping input data to the valid range for imshow with RGB data ([0..1] for floats or [0..255] for integers).\n",
            "Clipping input data to the valid range for imshow with RGB data ([0..1] for floats or [0..255] for integers).\n",
            "Clipping input data to the valid range for imshow with RGB data ([0..1] for floats or [0..255] for integers).\n",
            "Clipping input data to the valid range for imshow with RGB data ([0..1] for floats or [0..255] for integers).\n",
            "Clipping input data to the valid range for imshow with RGB data ([0..1] for floats or [0..255] for integers).\n",
            "Clipping input data to the valid range for imshow with RGB data ([0..1] for floats or [0..255] for integers).\n",
            "Clipping input data to the valid range for imshow with RGB data ([0..1] for floats or [0..255] for integers).\n"
          ],
          "name": "stderr"
        },
        {
          "output_type": "stream",
          "text": [
            "Train PSNR: 22.522\n",
            "Val PSNR: 9.701\n",
            "Train loss: 0.006\n",
            "Val loss: 0.006\n",
            "Epoch 10 of 10\n"
          ],
          "name": "stdout"
        },
        {
          "output_type": "stream",
          "text": [
            "Clipping input data to the valid range for imshow with RGB data ([0..1] for floats or [0..255] for integers).\n",
            "Clipping input data to the valid range for imshow with RGB data ([0..1] for floats or [0..255] for integers).\n",
            "Clipping input data to the valid range for imshow with RGB data ([0..1] for floats or [0..255] for integers).\n",
            "Clipping input data to the valid range for imshow with RGB data ([0..1] for floats or [0..255] for integers).\n",
            "Clipping input data to the valid range for imshow with RGB data ([0..1] for floats or [0..255] for integers).\n"
          ],
          "name": "stderr"
        },
        {
          "output_type": "stream",
          "text": [
            "Train PSNR: 22.549\n",
            "Val PSNR: 9.578\n",
            "Train loss: 0.006\n",
            "Val loss: 0.007\n"
          ],
          "name": "stdout"
        },
        {
          "output_type": "display_data",
          "data": {
            "image/png": "[encoded data removed]",
            "text/plain": [
              "<Figure size 432x288 with 1 Axes>"
            ]
          },
          "metadata": {
            "tags": [],
            "needs_background": "light"
          }
        }
      ]
    }
  ]
}